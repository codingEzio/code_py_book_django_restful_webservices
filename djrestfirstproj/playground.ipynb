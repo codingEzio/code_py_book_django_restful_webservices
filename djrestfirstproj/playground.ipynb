{
 "cells": [
  {
   "cell_type": "markdown",
   "metadata": {},
   "source": [
    "### Pre-setup"
   ]
  },
  {
   "cell_type": "code",
   "execution_count": 1,
   "metadata": {},
   "outputs": [],
   "source": [
    "import django\n",
    "django.setup()"
   ]
  },
  {
   "cell_type": "code",
   "execution_count": 2,
   "metadata": {},
   "outputs": [
    {
     "name": "stdout",
     "output_type": "stream",
     "text": [
      "Tue Oct  1 15:47:11 UTC 2019\n"
     ]
    }
   ],
   "source": [
    "%%bash\n",
    "date"
   ]
  },
  {
   "cell_type": "markdown",
   "metadata": {},
   "source": [
    "### Basics (ser, deser)"
   ]
  },
  {
   "cell_type": "code",
   "execution_count": 5,
   "metadata": {},
   "outputs": [],
   "source": [
    "from datetime import datetime\n",
    "from pprint import pprint\n",
    "\n",
    "from django.utils import timezone\n",
    "from django.utils.six import BytesIO\n",
    "from rest_framework.renderers import JSONRenderer\n",
    "from rest_framework.parsers import JSONParser\n",
    "\n",
    "from toys.models import Toy\n",
    "from toys.serializers import ToySerializer"
   ]
  },
  {
   "cell_type": "code",
   "execution_count": 6,
   "metadata": {
    "code_folding": [
     0,
     5,
     12
    ]
   },
   "outputs": [],
   "source": [
    "toy_release_date = timezone.make_aware(\n",
    "    datetime.now(),\n",
    "    timezone.get_current_timezone()\n",
    ")\n",
    "\n",
    "toy1 = Toy(\n",
    "    name='Snoopy',\n",
    "    description='snooooopy',\n",
    "    release_date=toy_release_date,\n",
    "    toy_category='Action Fig',\n",
    "    was_included_in_home=False,\n",
    ")\n",
    "toy2 = Toy(\n",
    "    name='Barbie',\n",
    "    description='barbie~~',\n",
    "    release_date=toy_release_date,\n",
    "    toy_category='Dolls',\n",
    "    was_included_in_home=True,\n",
    ")"
   ]
  },
  {
   "cell_type": "code",
   "execution_count": 7,
   "metadata": {},
   "outputs": [],
   "source": [
    "# toy1.save()"
   ]
  },
  {
   "cell_type": "code",
   "execution_count": 8,
   "metadata": {},
   "outputs": [],
   "source": [
    "# toy2.save()"
   ]
  },
  {
   "cell_type": "code",
   "execution_count": 11,
   "metadata": {
    "code_folding": [
     1,
     8
    ]
   },
   "outputs": [
    {
     "name": "stdout",
     "output_type": "stream",
     "text": [
      "1 Snoopy speaks five langs 2019-10-01 15:49:25.236315+00:00 Action Fig False\n",
      "2 Barbie barbie~ 2019-10-01 15:49:25.236315+00:00 Dolls True\n"
     ]
    }
   ],
   "source": [
    "# == SELECT * FROM toys_toy ORDER BY 'name'\n",
    "print(\n",
    "    toy1.pk, \n",
    "    toy1.description, \n",
    "    toy1.release_date,\n",
    "    toy1.toy_category, \n",
    "    toy1.was_included_in_home,\n",
    ")\n",
    "print(\n",
    "    toy2.pk, \n",
    "    toy2.description, \n",
    "    toy2.release_date,\n",
    "    toy2.toy_category, \n",
    "    toy2.was_included_in_home,\n",
    ")"
   ]
  },
  {
   "cell_type": "code",
   "execution_count": 18,
   "metadata": {},
   "outputs": [
    {
     "name": "stdout",
     "output_type": "stream",
     "text": [
      "{'description': 'Snoopy speaks five langs',\n",
      " 'name': 'Snoopy action fig',\n",
      " 'pk': 1,\n",
      " 'release_date': '2019-10-01T15:49:25.236315Z',\n",
      " 'toy_category': 'Action Fig',\n",
      " 'was_included_in_home': False}\n"
     ]
    }
   ],
   "source": [
    "toy1_serializer = ToySerializer(toy1)\n",
    "toy2_serializer = ToySerializer(toy2)\n",
    "\n",
    "pprint(toy1_serializer.data)"
   ]
  },
  {
   "cell_type": "code",
   "execution_count": 22,
   "metadata": {},
   "outputs": [
    {
     "data": {
      "text/plain": [
       "b'{\"pk\":1,\"name\":\"Snoopy action fig\",\"description\":\"Snoopy speaks five langs\",\"release_date\":\"2019-10-01T15:49:25.236315Z\",\"toy_category\":\"Action Fig\",\"was_included_in_home\":false}'"
      ]
     },
     "execution_count": 22,
     "metadata": {},
     "output_type": "execute_result"
    }
   ],
   "source": [
    "# => JSON (http request/response)\n",
    "\n",
    "json_renderer = JSONRenderer()\n",
    "toy1_to_json = json_renderer.render(toy1_serializer.data)\n",
    "toy2_to_json = json_renderer.render(toy2_serializer.data)\n",
    "\n",
    "toy1_to_json"
   ]
  },
  {
   "cell_type": "code",
   "execution_count": 26,
   "metadata": {
    "code_folding": [
     2
    ]
   },
   "outputs": [
    {
     "data": {
      "text/plain": [
       "{'name': 'phone',\n",
       " 'description': 'a phone',\n",
       " 'release_date': '2017-10-20T06:06:20.522532Z',\n",
       " 'toy_category': 'Electronics',\n",
       " 'was_included_in_home': False}"
      ]
     },
     "execution_count": 26,
     "metadata": {},
     "output_type": "execute_result"
    }
   ],
   "source": [
    "# => Native datatypes (e.g. save to DB)\n",
    "\n",
    "json_str_for_new_toy = ('{'\n",
    "                        '\"name\":\"Phone\", \"description\":\"a phone\",'\n",
    "                        '\"release_date\": \"2017-10-20T06:06:20.522532Z\",'\n",
    "                        '\"toy_category\": \"Electronics\",'\n",
    "                        '\"was_included_in_home\":false'\n",
    "                        '}')\n",
    "json_bytes_for_new_toy = bytes(json_str_for_new_toy, encoding='utf-8')\n",
    "stream_for_new_toy = BytesIO(json_bytes_for_new_toy)\n",
    "\n",
    "parser = JSONParser()\n",
    "parsed_new_toy = parser.parse(stream_for_new_toy)\n",
    "parsed_new_toy"
   ]
  },
  {
   "cell_type": "code",
   "execution_count": 30,
   "metadata": {},
   "outputs": [
    {
     "name": "stdout",
     "output_type": "stream",
     "text": [
      "phone\n"
     ]
    }
   ],
   "source": [
    "new_toy_serializer = ToySerializer(data=parsed_new_toy)\n",
    "if new_toy_serializer.is_valid():\n",
    "    # toy3 = new_toy_serializer.save()\n",
    "    print(toy3.name)"
   ]
  },
  {
   "cell_type": "code",
   "execution_count": null,
   "metadata": {},
   "outputs": [],
   "source": []
  }
 ],
 "metadata": {
  "kernelspec": {
   "display_name": "Django Shell-Plus",
   "language": "python",
   "name": "django_extensions"
  },
  "language_info": {
   "codemirror_mode": {
    "name": "ipython",
    "version": 3
   },
   "file_extension": ".py",
   "mimetype": "text/x-python",
   "name": "python",
   "nbconvert_exporter": "python",
   "pygments_lexer": "ipython3",
   "version": "3.6.5"
  }
 },
 "nbformat": 4,
 "nbformat_minor": 2
}
