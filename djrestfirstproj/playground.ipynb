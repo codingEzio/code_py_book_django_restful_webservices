{
 "cells": [
  {
   "cell_type": "markdown",
   "metadata": {},
   "source": [
    "### Pre-setup"
   ]
  },
  {
   "cell_type": "code",
   "execution_count": null,
   "metadata": {},
   "outputs": [],
   "source": [
    "import django\n",
    "django.setup()"
   ]
  },
  {
   "cell_type": "code",
   "execution_count": 9,
   "metadata": {},
   "outputs": [
    {
     "name": "stdout",
     "output_type": "stream",
     "text": [
      "Tue Oct  1 08:51:46 UTC 2019\n"
     ]
    }
   ],
   "source": [
    "%%bash \n",
    "date"
   ]
  },
  {
   "cell_type": "markdown",
   "metadata": {},
   "source": [
    "### Testing serializers"
   ]
  },
  {
   "cell_type": "code",
   "execution_count": 26,
   "metadata": {},
   "outputs": [],
   "source": [
    "from datetime import datetime\n",
    "from pprint import pprint\n",
    "\n",
    "from django.utils import timezone\n",
    "from django.utils.six import BytesIO\n",
    "from rest_framework.renderers import JSONRenderer\n",
    "from rest_framework.parsers import JSONParser\n",
    "\n",
    "from toys.models import Toy\n",
    "from toys.serializers import ToySerializer"
   ]
  },
  {
   "cell_type": "code",
   "execution_count": 12,
   "metadata": {},
   "outputs": [],
   "source": [
    "toy_release_date = timezone.make_aware(\n",
    "    datetime.now(),\n",
    "    timezone.get_current_timezone()\n",
    ")"
   ]
  },
  {
   "cell_type": "code",
   "execution_count": 16,
   "metadata": {},
   "outputs": [],
   "source": [
    "toy1 = Toy(\n",
    "    name='Snoopy taling action fig',\n",
    "    description='Snoopy speaks five langs',\n",
    "    release_date=toy_release_date,\n",
    "    toy_category='Action Fig',\n",
    "    was_included_in_home=False,\n",
    ")\n",
    "toy2 = Toy(\n",
    "    name='Barbie',\n",
    "    description='Barbie barbie~',\n",
    "    release_date=toy_release_date,\n",
    "    toy_category='Dolls',\n",
    "    was_included_in_home=True,\n",
    ")\n",
    "\n",
    "# toy1.save()\n",
    "# toy2.save()"
   ]
  },
  {
   "cell_type": "code",
   "execution_count": 21,
   "metadata": {},
   "outputs": [
    {
     "name": "stdout",
     "output_type": "stream",
     "text": [
      "5\n",
      "Snoopy speaks five langs\n",
      "2019-10-01 08:56:43.115166+00:00\n",
      "Action Fig\n",
      "False\n",
      "6\n",
      "Barbie barbie~\n",
      "2019-10-01 08:56:43.115166+00:00\n",
      "Dolls\n",
      "True\n"
     ]
    }
   ],
   "source": [
    "# SELECT * FROM toys_toy ORDER BY 'name';\n",
    "print(\n",
    "    toy1.pk, \n",
    "    toy1.description, \n",
    "    toy1.release_date,\n",
    "    toy1.toy_category, \n",
    "    toy1.was_included_in_home,\n",
    ")\n",
    "print(\n",
    "    toy2.pk, \n",
    "    toy2.description, \n",
    "    toy2.release_date,\n",
    "    toy2.toy_category, \n",
    "    toy2.was_included_in_home,\n",
    ")"
   ]
  },
  {
   "cell_type": "code",
   "execution_count": 31,
   "metadata": {},
   "outputs": [
    {
     "name": "stdout",
     "output_type": "stream",
     "text": [
      "{'description': 'Snoopy speaks five langs',\n",
      " 'name': 'Snoopy taling action fig',\n",
      " 'pk': 5,\n",
      " 'release_date': '2019-10-01T08:56:43.115166Z',\n",
      " 'toy_category': 'Action Fig',\n",
      " 'was_included_in_home': False}\n",
      "\n",
      "{'description': 'Barbie barbie~',\n",
      " 'name': 'Barbie',\n",
      " 'pk': 6,\n",
      " 'release_date': '2019-10-01T08:56:43.115166Z',\n",
      " 'toy_category': 'Dolls',\n",
      " 'was_included_in_home': True}\n"
     ]
    }
   ],
   "source": [
    "# Raw data (hmm)\n",
    "\n",
    "cereal_for_toy1 = ToySerializer(toy1)\n",
    "cereal_for_toy2 = ToySerializer(toy2)\n",
    "\n",
    "pprint(cereal_for_toy1.data); print()\n",
    "pprint(cereal_for_toy2.data)"
   ]
  },
  {
   "cell_type": "code",
   "execution_count": 56,
   "metadata": {},
   "outputs": [],
   "source": [
    "# JSONRenderer   Render `data` into JSON, returning a bytestring.\n",
    "# JSONParser     Parses incoming bytestream as JSON, returns the resulting data.\n",
    "\n",
    "# Basically,\n",
    "#   render to JSON     ready to be sent       e.g. http POST\n",
    "#   parser into obj    to native datatypes    e.g. save to database"
   ]
  },
  {
   "cell_type": "code",
   "execution_count": 37,
   "metadata": {},
   "outputs": [
    {
     "data": {
      "text/plain": [
       "b'{\"pk\":5,\"name\":\"Snoopy taling action fig\",\"description\":\"Snoopy speaks five langs\",\"release_date\":\"2019-10-01T08:56:43.115166Z\",\"toy_category\":\"Action Fig\",\"was_included_in_home\":false}'"
      ]
     },
     "execution_count": 37,
     "metadata": {},
     "output_type": "execute_result"
    },
    {
     "data": {
      "text/plain": [
       "b'{\"pk\":6,\"name\":\"Barbie\",\"description\":\"Barbie barbie~\",\"release_date\":\"2019-10-01T08:56:43.115166Z\",\"toy_category\":\"Dolls\",\"was_included_in_home\":true}'"
      ]
     },
     "execution_count": 37,
     "metadata": {},
     "output_type": "execute_result"
    }
   ],
   "source": [
    "# Render into JSON\n",
    "\n",
    "json_renderer = JSONRenderer()\n",
    "toy1_tojson = json_renderer.render(cereal_for_toy1.data)\n",
    "toy2_tojson = json_renderer.render(cereal_for_toy2.data)\n",
    "\n",
    "toy1_tojson\n",
    "toy2_tojson"
   ]
  },
  {
   "cell_type": "code",
   "execution_count": 50,
   "metadata": {},
   "outputs": [
    {
     "data": {
      "text/plain": [
       "{'name': 'cellphone',\n",
       " 'description': 'just a cellphone yo',\n",
       " 'release_date': '2017-10-20T06:06:20.522532Z',\n",
       " 'toy_category': 'Electronics',\n",
       " 'was_included_in_home': False}"
      ]
     },
     "execution_count": 50,
     "metadata": {},
     "output_type": "execute_result"
    }
   ],
   "source": [
    "# From serialized data (JSON) to the an instance of Toy\n",
    "# 1. deserailize\n",
    "# 2. parse\n",
    "\n",
    "json_str_for_new_toy = (\n",
    "    '{'\n",
    "    '\"name\":\"cellphone\", \"description\":\"just a cellphone yo\",'\n",
    "    '\"release_date\": \"2017-10-20T06:06:20.522532Z\",'\n",
    "    '\"toy_category\": \"Electronics\",'\n",
    "    '\"was_included_in_home\":false'\n",
    "    '}'\n",
    ")\n",
    "json_bytes_for_new_toy = bytes(json_str_for_new_toy, encoding='UTF-8')\n",
    "stream_for_new_toy = BytesIO(json_bytes_for_new_toy)\n",
    "\n",
    "parser = JSONParser()\n",
    "parsed_new_toy = parser.parse(stream_for_new_toy)\n",
    "\n",
    "parsed_new_toy"
   ]
  },
  {
   "cell_type": "code",
   "execution_count": 58,
   "metadata": {},
   "outputs": [
    {
     "name": "stdout",
     "output_type": "stream",
     "text": [
      "cellphone\n"
     ]
    }
   ],
   "source": [
    "new_toy_serializer = ToySerializer(data=parsed_new_toy)\n",
    "\n",
    "if new_toy_serializer.is_valid():\n",
    "    # toy3 = new_toy_serializer.save()\n",
    "    print(toy3.name)"
   ]
  },
  {
   "cell_type": "code",
   "execution_count": null,
   "metadata": {},
   "outputs": [],
   "source": []
  },
  {
   "cell_type": "code",
   "execution_count": null,
   "metadata": {},
   "outputs": [],
   "source": []
  }
 ],
 "metadata": {
  "kernelspec": {
   "display_name": "Django Shell-Plus",
   "language": "python",
   "name": "django_extensions"
  },
  "language_info": {
   "codemirror_mode": {
    "name": "ipython",
    "version": 3
   },
   "file_extension": ".py",
   "mimetype": "text/x-python",
   "name": "python",
   "nbconvert_exporter": "python",
   "pygments_lexer": "ipython3",
   "version": "3.7.4"
  },
  "widgets": {
   "application/vnd.jupyter.widget-state+json": {
    "state": {},
    "version_major": 2,
    "version_minor": 0
   }
  }
 },
 "nbformat": 4,
 "nbformat_minor": 2
}
